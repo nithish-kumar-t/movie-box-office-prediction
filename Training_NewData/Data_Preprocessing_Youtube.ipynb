{
  "nbformat": 4,
  "nbformat_minor": 0,
  "metadata": {
    "colab": {
      "provenance": []
    },
    "kernelspec": {
      "name": "python3",
      "display_name": "Python 3"
    },
    "language_info": {
      "name": "python"
    }
  },
  "cells": [
    {
      "cell_type": "code",
      "source": [
        "from google.colab import drive\n",
        "drive.mount('/content/drive')"
      ],
      "metadata": {
        "colab": {
          "base_uri": "https://localhost:8080/"
        },
        "id": "twQxQb2za7lJ",
        "outputId": "f7a2a31e-e929-4140-85e4-2de143ac818a"
      },
      "execution_count": 1,
      "outputs": [
        {
          "output_type": "stream",
          "name": "stdout",
          "text": [
            "Mounted at /content/drive\n"
          ]
        }
      ]
    },
    {
      "cell_type": "code",
      "execution_count": 3,
      "metadata": {
        "colab": {
          "base_uri": "https://localhost:8080/"
        },
        "id": "ZyjlPt8gZw9k",
        "outputId": "bd866ebf-6d72-4196-d24a-fc19c27a857e"
      },
      "outputs": [
        {
          "output_type": "stream",
          "name": "stdout",
          "text": [
            "Merged file saved as 'merged_movie_data_youtube.csv'\n"
          ]
        }
      ],
      "source": [
        "import pandas as pd\n",
        "\n",
        "# Load both CSV files\n",
        "original_df = pd.read_csv('/content/drive/MyDrive/movie_prediction_data/tmdb_1000_sample.csv')\n",
        "sentiment_df = pd.read_csv('/content/drive/MyDrive/movie_prediction_data/movie_sentiment_emotion_summary.csv')\n",
        "\n",
        "# Clean the 'title' and 'movie_title' columns for accurate matching\n",
        "original_df['title_cleaned'] = original_df['title'].str.strip().str.lower()\n",
        "sentiment_df['movie_title_cleaned'] = sentiment_df['movie_title'].str.strip().str.lower()\n",
        "\n",
        "# Merge based on the cleaned title columns\n",
        "merged_df = pd.merge(\n",
        "    original_df,\n",
        "    sentiment_df,\n",
        "    how='left',\n",
        "    left_on='title_cleaned',\n",
        "    right_on='movie_title_cleaned'\n",
        ")\n",
        "\n",
        "# Drop helper columns used for matching\n",
        "merged_df.drop(columns=['title_cleaned', 'movie_title_cleaned', 'movie_title'], inplace=True)\n",
        "\n",
        "# Save to new CSV\n",
        "merged_df.to_csv('/content/drive/MyDrive/movie_prediction_data/merged_movie_data_youtube.csv', index=False)\n",
        "\n",
        "print(\"Merged file saved as 'merged_movie_data_youtube.csv'\")\n"
      ]
    }
  ]
}